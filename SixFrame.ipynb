{
 "cells": [
  {
   "cell_type": "markdown",
   "metadata": {},
   "source": [
    "## Imports"
   ]
  },
  {
   "cell_type": "code",
   "execution_count": 1,
   "metadata": {},
   "outputs": [],
   "source": [
    "import os, sys\n",
    "import re\n",
    "import itertools as it\n",
    "import numpy as np\n",
    "\n",
    "\"\"\" \n",
    "If you have problem importing, you probably don't have BioPython.\n",
    "    Try calling 'pip install biopython' in your terminal\n",
    "\"\"\"\n",
    "from Bio import SeqIO\n",
    "from Bio import Data\n",
    "from Bio import Seq\n",
    "from Bio import SeqRecord"
   ]
  },
  {
   "cell_type": "markdown",
   "metadata": {},
   "source": [
    "## Set-up + Data Downloading"
   ]
  },
  {
   "cell_type": "code",
   "execution_count": 2,
   "metadata": {},
   "outputs": [],
   "source": [
    "\"\"\" \n",
    "The folder that should contain all data,\n",
    "    Include protein databases (references), and\n",
    "    DNA sequences (querys)\n",
    "\"\"\"\n",
    "data_directory = \"data\"\n",
    "\n",
    "if not os.path.exists(data_directory):\n",
    "    os.makedirs(data_directory)"
   ]
  },
  {
   "cell_type": "markdown",
   "metadata": {},
   "source": [
    "**PLEASE** go to data folder and call \"bash get_data.sh\""
   ]
  },
  {
   "cell_type": "raw",
   "metadata": {},
   "source": [
    "bash get_data.sh"
   ]
  },
  {
   "cell_type": "markdown",
   "metadata": {},
   "source": [
    "## 6-Frame Translation"
   ]
  },
  {
   "cell_type": "code",
   "execution_count": 3,
   "metadata": {},
   "outputs": [],
   "source": [
    "def read_query_file(file_name, file_format='fasta'):\n",
    "    \"\"\"\n",
    "    Parse a fasta or fastq file into pairs of name and sequences.\n",
    "    \n",
    "    Args:\n",
    "            file_name (str): Name of the file containing query sequences\n",
    "            file_format (str): Must be either 'fasta' or 'fastq'.\n",
    "            \n",
    "    Returns:\n",
    "            query_dict (dict): A dictionary object containing all parsed queries\n",
    "    \"\"\"\n",
    "    \n",
    "    # Check for file format\n",
    "    if file_format.lower() not in ['fasta', 'fastq']:\n",
    "        raise Exception(\"Not recognized file format\")\n",
    "    \n",
    "    # An iterator of parsed object\n",
    "    query_iter = SeqIO.parse(file_name, file_format.lower())\n",
    "    \n",
    "    # Turn the iterator into a dictionary \n",
    "    if file_format == 'fasta':\n",
    "        query_dict = SeqIO.to_dict(query_iter)\n",
    "    else:\n",
    "        \"\"\"\n",
    "        If there is duplicate keys, append an\n",
    "            incrementing value to the reads' ID\n",
    "        \"\"\"\n",
    "        alternative = {}\n",
    "        for idx,i in enumerate(query_iter):\n",
    "            alternative[f\"{i.id}_{idx}\"] = i\n",
    "        return alternative\n",
    "    return query_dict"
   ]
  },
  {
   "cell_type": "code",
   "execution_count": 4,
   "metadata": {},
   "outputs": [],
   "source": [
    "def translate_seq(sequence):\n",
    "    \"\"\"\n",
    "    Translate a BioPython BioSeq object that contains\n",
    "    DNA sequences.\n",
    "    \n",
    "    Args:\n",
    "            sequence (Bio.Seq): A Bio.Seq object that contains DNA->Amino Acid translation function\n",
    "            \n",
    "    Returns:\n",
    "            cds (list): A list containing all valid CDS with a minimum length of 20\n",
    "    \"\"\"\n",
    "    min_cds_length = 10\n",
    "    \n",
    "    # Translate amino acid past any stop codon\n",
    "    aa  = sequence.translate()\n",
    "    \n",
    "    # Extract all valid CDS (starts with M and ends with stop codon)\n",
    "    regr= re.compile(r'M[A-Z]*')\n",
    "    cds = regr.findall(str(aa))\n",
    "    \n",
    "    # filter out short cds\n",
    "    cds = [c for c in cds if len(c) > min_cds_length]\n",
    "    \n",
    "    return cds"
   ]
  },
  {
   "cell_type": "code",
   "execution_count": 5,
   "metadata": {},
   "outputs": [],
   "source": [
    "def six_frame_translation(sequence):\n",
    "    \"\"\"\n",
    "    Wrapper function the calls translate_seq at all 6 frames\n",
    "    \n",
    "    Args:\n",
    "            sequence (Bio.Seq): A Bio.Seq object that contains DNA->Amino Acid translation function\n",
    "            \n",
    "    Returns:\n",
    "            cds (list): A list containing all 6-frames' CDSs\n",
    "    \"\"\"\n",
    "    # Obtain the reverse complement strand\n",
    "    rc_sequence = sequence.reverse_complement()\n",
    "    \n",
    "    # Aggregate CDS from all 6 frames\n",
    "    six_frame = [translate_seq(sequence), \n",
    "                 translate_seq(sequence[1:]), \n",
    "                 translate_seq(sequence[2:]), \n",
    "                 translate_seq(rc_sequence), \n",
    "                 translate_seq(rc_sequence[1:]),\n",
    "                 translate_seq(rc_sequence[2:])]\n",
    "    \n",
    "    # flatten the list\n",
    "    six_frame = [cds for cds_list in six_frame for cds in cds_list]\n",
    "\n",
    "    return six_frame"
   ]
  },
  {
   "cell_type": "markdown",
   "metadata": {},
   "source": [
    "# Reverse-Translation"
   ]
  },
  {
   "cell_type": "code",
   "execution_count": 6,
   "metadata": {},
   "outputs": [
    {
     "name": "stdout",
     "output_type": "stream",
     "text": [
      "Table 1 Standard, SGC0\n",
      "\n",
      "  |  T      |  C      |  A      |  G      |\n",
      "--+---------+---------+---------+---------+--\n",
      "T | TTT F   | TCT S   | TAT Y   | TGT C   | T\n",
      "T | TTC F   | TCC S   | TAC Y   | TGC C   | C\n",
      "T | TTA L   | TCA S   | TAA Stop| TGA Stop| A\n",
      "T | TTG L(s)| TCG S   | TAG Stop| TGG W   | G\n",
      "--+---------+---------+---------+---------+--\n",
      "C | CTT L   | CCT P   | CAT H   | CGT R   | T\n",
      "C | CTC L   | CCC P   | CAC H   | CGC R   | C\n",
      "C | CTA L   | CCA P   | CAA Q   | CGA R   | A\n",
      "C | CTG L(s)| CCG P   | CAG Q   | CGG R   | G\n",
      "--+---------+---------+---------+---------+--\n",
      "A | ATT I   | ACT T   | AAT N   | AGT S   | T\n",
      "A | ATC I   | ACC T   | AAC N   | AGC S   | C\n",
      "A | ATA I   | ACA T   | AAA K   | AGA R   | A\n",
      "A | ATG M(s)| ACG T   | AAG K   | AGG R   | G\n",
      "--+---------+---------+---------+---------+--\n",
      "G | GTT V   | GCT A   | GAT D   | GGT G   | T\n",
      "G | GTC V   | GCC A   | GAC D   | GGC G   | C\n",
      "G | GTA V   | GCA A   | GAA E   | GGA G   | A\n",
      "G | GTG V   | GCG A   | GAG E   | GGG G   | G\n",
      "--+---------+---------+---------+---------+--\n"
     ]
    }
   ],
   "source": [
    "print(Data.CodonTable.standard_dna_table)"
   ]
  },
  {
   "cell_type": "code",
   "execution_count": 7,
   "metadata": {},
   "outputs": [],
   "source": [
    "reverse_codon = {'A': ['GCT', 'GCC', 'GCA', 'GCG'], \n",
    "                 'C': ['TGT', 'TGC'],\n",
    "                 'D': ['GAT', 'GAC'], \n",
    "                 'E': ['GAA', 'GAG'],\n",
    "                 'F': ['TTT', 'TTC'], \n",
    "                 'G': ['GGT', 'GGC', 'GGA', 'GGG'], \n",
    "                 'H': ['CAT', 'CAC'],\n",
    "                 'I': ['ATT', 'ATC', 'ATA'], \n",
    "                 'K': ['AAA', 'AAG'],\n",
    "                 'L': ['TTA', 'TTG', 'CTT', 'CTC', 'CTA', 'CTG'], \n",
    "                 'M': ['ATG'], \n",
    "                 'N': ['AAT', 'AAC'], \n",
    "                 'P': ['CCT', 'CCC', 'CCA', 'CCG'], \n",
    "                 'Q': ['CAA', 'CAG'], \n",
    "                 'R': ['CGT', 'CGC', 'CGA', 'CGG', 'AGA', 'AGG'], \n",
    "                 'S': ['TCT', 'TCC', 'TCA', 'TCG', 'AGT', 'AGC'], \n",
    "                 'T': ['ACT', 'ACC', 'ACA', 'ACG'],\n",
    "                 'V': ['GTT', 'GTC', 'GTA', 'GTG'], \n",
    "                 'W': ['TGG'], \n",
    "                 'Y': ['TAT', 'TAC']}"
   ]
  },
  {
   "cell_type": "markdown",
   "metadata": {},
   "source": [
    "To help Bowtie2 or any aligner that uses Burrow Wheeler Transform (BWT), we would like to find a set of reverse translation mapping that yields the highest overall entropy. This highest overall entropy is computed by summing across per-base-position entropy. In another word, we want the distribution of A,C,G,T for each individual base position (namely, 1st, 2nd, and 3rd base) to be as diverse as possible. Doing so can hopefully allow us to maximally reduce the number of rows that we are searching, each time we perform FM indexing. And we choose to use entropy to measure the diversity of A,C,G,T."
   ]
  },
  {
   "cell_type": "code",
   "execution_count": 8,
   "metadata": {},
   "outputs": [],
   "source": [
    "def compute_entropy(letters):\n",
    "    \"\"\"\n",
    "    Given a list of letters, compute the entropy for letter distributions\n",
    "    \n",
    "    Args:\n",
    "            letters (list): a list of consists of A,C,G,T \n",
    "            \n",
    "    Returns:\n",
    "            entropy (float): a value representing information entropy.\n",
    "                             $ - \\sum \\frac{1}{p} \\log_2 \\frac{1}{p}$\n",
    "    \"\"\"\n",
    "    # Compute frequency\n",
    "    A = letters.count('A') / len(letters)\n",
    "    C = letters.count('C') / len(letters)\n",
    "    G = letters.count('G') / len(letters)\n",
    "    T = letters.count('T') / len(letters)\n",
    "    \n",
    "    # Pseudo-count\n",
    "    counts = np.array([A, C, G, T]) + 1e-5\n",
    "    \n",
    "    # compute entropy\n",
    "    probas = counts / np.sum(counts)\n",
    "    ents   = probas * np.log2(probas)\n",
    "    entropy= -1 * np.sum(ents)\n",
    "    return entropy"
   ]
  },
  {
   "cell_type": "markdown",
   "metadata": {},
   "source": [
    "#### Brute Force"
   ]
  },
  {
   "cell_type": "markdown",
   "metadata": {},
   "source": [
    "**Don't** try to run the following code. It is **NOT** intended to be executed.\n",
    "\n",
    "The following code should be able to return the reverse codon mapping with the highest entropy; however, because it tries to brute force all possible combinations of mapping, it will take too much time. "
   ]
  },
  {
   "cell_type": "raw",
   "metadata": {},
   "source": [
    "def most_diverse_encoding(combo):\n",
    "    \"\"\"\n",
    "    A wrapper function that repetitively calls compute_entropy with all combinations of reverse-translation codon mapping.\n",
    "    \n",
    "    Args:\n",
    "            combo (list): a nested list consists of all reverse-translation combination\n",
    "            \n",
    "    Returns:\n",
    "            max_combo (list): a list of the best combination along with their entropy.\n",
    "    \"\"\"\n",
    "    cur_idx   = 0                 # Current Combination Index\n",
    "    max_combo = []                # Combination encountered so-far w/ max entropy\n",
    "    memory    = {}                # Offset some computation cost for entropy\n",
    "    combo_all = it.product(*combo)\n",
    "\n",
    "    for rep in combo_all:\n",
    "        ent = 0                   # Initialize entropy to 0\n",
    "        for idx in range(len(rep[0])):\n",
    "            letters = tuple([r[idx] for r in rep])      # Extract letters by positions\n",
    "            if letters not in memory:\n",
    "                memory[letters] = compute_entropy(letters) \n",
    "            ent += memory[letters]\n",
    "\n",
    "        if len(max_combo) == 0:\n",
    "            max_combo = [rep, ent]\n",
    "        if ent > max_combo[1]:\n",
    "            max_combo = [rep, ent]\n",
    "        elif ent == max_combo[1]:\n",
    "            max_combo.append(rep)\n",
    "            \n",
    "        cur_idx += 1\n",
    "        if cur_idx % int(10e8) == 1:\n",
    "            print(f\"Processed {cur_idx} combinations\")\n",
    "\n",
    "    return max_combo\n",
    "        \n",
    "outcome = most_diverse_encoding(list(reverse_codon.values()))"
   ]
  },
  {
   "cell_type": "markdown",
   "metadata": {},
   "source": [
    "#### Heuristic"
   ]
  },
  {
   "cell_type": "markdown",
   "metadata": {},
   "source": [
    "A summary table that aggregates all possible mapping for each individual amino acid. The columns are \"Abbreviated amino acid\", \"1st base\", \"2nd base\", \"All Possible 3rd bases\", \"Alternative 2nd base\", and \"Corresponding alternative 3rd bases\".\n",
    "\n",
    "We can see that W(Tryptophan) and M(Methionine) have only 1 possible reverse mapping.\n",
    "\n",
    "15 amino acids have fixed 1st-base and 2nd-base with 2~4 choises over their 3rd-base.\n",
    "\n",
    "3 amino acids have fixed 1st-base but 2 choices of 2nd-base and corresponding 3rd-bases."
   ]
  },
  {
   "cell_type": "raw",
   "metadata": {},
   "source": [
    "Amino Acid, 1st, 2nd,   3rd,\tAlt 1st/2nd  3rd\n",
    "\tE\t\tG\t  A\t\tA G\n",
    "\tQ\t\tC\t  A\t\tA G\n",
    "\tK\t\tA\t  A\t\tA G\n",
    "\tI\t\tA\t  T\t\tAC T\n",
    "\tF\t\tT\t  T\t\t C T\n",
    "\tC\t\tT\t  G\t\t C T\n",
    "\tD\t\tG\t  A\t\t C T\n",
    "\tH\t\tC\t  A\t\t C T\n",
    "\tY\t\tT\t  A\t\t C T\n",
    "\tN\t\tA\t  A\t\t C T\n",
    "\tP\t\tC\t  C\t\tACGT\n",
    "\tT\t\tA\t  C\t\tACGT\n",
    "\tV\t\tG\t  T\t\tACGT\n",
    "\tA\t\tG\t  C\t\tACGT\n",
    "\tG\t\tG\t  G\t\tACGT\n",
    "\n",
    "\n",
    "\tL\t\tC\t  T\t\tACGT\t\tTT\t\tA G\n",
    "\tR\t\tC\t  G\t\tACGT\t\tAG\t\tA G\n",
    "\tS\t\tT\t  C\t\tACGT\t\tAG\t\t C T\n",
    "\n",
    "\n",
    "\tW\t\tT\t  G\t\t  G\n",
    "\tM\t\tA\t  T\t\t  G"
   ]
  },
  {
   "cell_type": "markdown",
   "metadata": {},
   "source": [
    "Upon observing the summary of codon table (shown above), we see that most variances lie in the 3rd position of codons. Because the majority of amino acids have fixed first two positions of codons already, we can try to come up with a heuristic reverse-mapping by hand.\n",
    "\n",
    "First of all, we see that all the amino acids except S(Serine) has a choice of C or G on the 2nd base. Given that the 2nd-base distribution for all other 19 amino acids is [A,C,G,T]:[7,3,4,5], we prefer C over G, for they yield entropy of 1.9589 and 1.9406, respectively. \n",
    "\n",
    "We will take a greedy approach and claim that the second position is now fixed.\n",
    "\n",
    "Given that we have choosen C as the second base for S(Serine), we have only 2 choices left to make to finalize the first base position. L(Leucine) can have a C or a T for its first base, and R(Arginine) can have either a C or a A for its first base. The 1st-base distribution for all other 18 amino acids is [A,C,G,T]: [5,3,5,5]. Because we know the uniform distribution yields the highest entropy, we will have both Leucine and Arginine to take C as its first base.\n",
    "\n",
    "Now that we have both the 1st-base position and 2nd-base position resolved. We only need to figure out what to do for the 3rd-base position. Because there are so much variances for this base position, there exists multiple combinations that lead to uniform distribution. One of such mapping is\n",
    "E/Q/K/W/M takes G\n",
    "I/F/C/D/H tales T \n",
    "Y/N/P/T/V takes C\n",
    "A/G/L/R/S takes A.\n",
    "\n",
    "While we took a greedy approach in selecting the reverse-mapping, we argue that we indeed arrived at the set of mapping with the highest overall entropy. Because we have uniform distribution over A,C,G,T for both the 1st-base position and the 3rd-base position, there is no room to improve upon it. Meanwhile, we have gotten the highest entropy possible for the 2nd-base position, thus, we claim that we found our ideal mapping."
   ]
  },
  {
   "cell_type": "code",
   "execution_count": 9,
   "metadata": {},
   "outputs": [],
   "source": [
    "ideal_r_mapping = {'E': 'GAG', 'Q': 'CAG', 'K': 'AAG', 'I': 'ATT', \n",
    "                   'F': 'TTT', 'C': 'TGT', 'D': 'GAT', 'H': 'CAT', \n",
    "                   'Y': 'TAC', 'N': 'AAC', 'P': 'CCC', 'T': 'ACC', \n",
    "                   'V': 'GTC', 'A': 'GCA', 'G': 'GGA', 'L': 'CTA', \n",
    "                   'R': 'CGA', 'S': 'TCA', 'W': 'TGG', 'M': 'ATG'}"
   ]
  },
  {
   "cell_type": "markdown",
   "metadata": {},
   "source": [
    "# Encoding"
   ]
  },
  {
   "cell_type": "code",
   "execution_count": 10,
   "metadata": {},
   "outputs": [],
   "source": [
    "def encode_sequences(fname, out_name, reference=True, file_type='fasta'):\n",
    "    \"\"\"\n",
    "    This function handles reverse mapping from amino acid to nucleotide\n",
    "    \n",
    "    Args:\n",
    "            fname (str): the relative path to the input file\n",
    "            out_name (str): the relative path to where the output should be stored\n",
    "            reference (bool): where this is a reference file or a query file. If latter,\n",
    "                              the reads will first get translated into protein and then\n",
    "                              reverse-mapped back to nucleotide space.\n",
    "            file_type (str): whether the file is a fasta or a fastq.\n",
    "            \n",
    "    Returns:\n",
    "            None -- output is directly written to the output file\n",
    "            \n",
    "    \"\"\"\n",
    "    # Read querys into SeqRecord objects\n",
    "    entries = read_query_file(fname, file_format=file_type)\n",
    "    print(f\"Processed {fname:>80} with {len(entries):>30} records\")    \n",
    "\n",
    "    # If a protein reference, directly map to nt space\n",
    "    if reference:\n",
    "        for k,v in entries.items():\n",
    "            encoded = [ideal_r_mapping[letter]  if letter in ideal_r_mapping else 'CGT' for letter in v.seq]\n",
    "            v.seq   = Seq.Seq(''.join(encoded)) \n",
    "          \n",
    "    # If a nucleotide query, first do 6-frame translation and then map back to nt space\n",
    "    else:      \n",
    "        # Populate a new list with transformed CDSs\n",
    "        new_entries = {}\n",
    "        counter     = 0 \n",
    "        \n",
    "        # For each query\n",
    "        for record, (k, v) in enumerate(entries.items()):\n",
    "            six_frame = six_frame_translation(v.seq)\n",
    "\n",
    "            # for each valid CDS region\n",
    "            for idx, cds in enumerate(six_frame):\n",
    "                encoded = [ideal_r_mapping[letter] if letter in ideal_r_mapping else 'CGT' for letter in cds]\n",
    "                new_seq = Seq.Seq(''.join(encoded))\n",
    "                new_entries[counter] = SeqRecord.SeqRecord(seq=new_seq, id=f\"{v.id}_{record}&*#{idx}\", name=f\"{v.id}_{record}&*#{idx}\", description=\"\")\n",
    "                counter += 1\n",
    "                \n",
    "        entries = new_entries\n",
    "        \n",
    "    \n",
    "    # Output encoded sequences\n",
    "    with open(out_name, \"w\") as handle:\n",
    "        SeqIO.write(entries.values(), handle, \"fasta\")\n",
    "        \n",
    "    return a"
   ]
  },
  {
   "cell_type": "code",
   "execution_count": 11,
   "metadata": {},
   "outputs": [
    {
     "name": "stdout",
     "output_type": "stream",
     "text": [
      "Processed                          data\\GCF_000820495.2_ViralMultiSegProj14656_protein.faa with                             10 records\n",
      "Processed                                  data\\GCF_000864765.1_ViralProj15476_protein.faa with                             10 records\n",
      "Processed                                  data\\GCF_000882815.3_ViralProj36615_protein.faa with                              1 records\n",
      "Processed                                 data\\GCF_000901155.1_ViralProj183710_protein.faa with                             11 records\n",
      "Processed                         data\\GCF_001343785.1_ViralMultiSegProj274766_protein.faa with                             11 records\n",
      "Processed                                     data\\GCF_002816195.1_ASM281619v1_protein.faa with                             11 records\n",
      "Processed                                     data\\GCF_009858895.2_ASM985889v3_protein.faa with                             12 records\n",
      "Processed                                                          data\\gQ23IRL96296.fastq with                         661500 records\n"
     ]
    },
    {
     "name": "stderr",
     "output_type": "stream",
     "text": [
      "C:\\Users\\garyc\\Anaconda3\\envs\\tf2\\lib\\site-packages\\Bio\\Seq.py:2338: BiopythonWarning: Partial codon, len(sequence) not a multiple of three. Explicitly trim the sequence or add trailing N before translation. This may become an error in future.\n",
      "  BiopythonWarning,\n"
     ]
    }
   ],
   "source": [
    "\"\"\"\n",
    "Main function:\n",
    "\n",
    "1. Process all the protein references. Map records into nucleotide space.\n",
    "\n",
    "2. Process all the query sequences. Obtain possible (valid and long enough) \n",
    "        CDS from each reads, and then map each CDS individual back into nucleotide\n",
    "        space.\n",
    "        \n",
    "TAKES ABOUT 5 MINUTES ON MY LAPTOP\n",
    "\"\"\"\n",
    "lol=0\n",
    "# List all files in the data directory\n",
    "data_files = os.listdir(data_directory)\n",
    "for file in data_files:\n",
    "    in_name  = os.path.join(data_directory,file)\n",
    "    \n",
    "    # Find all the protein references\n",
    "    if '_protein.faa' in file:\n",
    "        out_name = in_name.replace('_protein.faa', '_aa_encoded.fasta')\n",
    "        lol=encode_sequences(in_name, out_name, True, 'fasta')\n",
    "        \n",
    "    # Find all raw sequencing reads\n",
    "    elif 'fastq' in file:gi\n",
    "        out_name = in_name.replace('.fastq', '_nt_encoded.fasta')\n",
    "        lol=encode_sequences(in_name, out_name, False, 'fastq')"
   ]
  }
 ],
 "metadata": {
  "kernelspec": {
   "display_name": "tf2",
   "language": "python",
   "name": "tf2"
  },
  "language_info": {
   "codemirror_mode": {
    "name": "ipython",
    "version": 3
   },
   "file_extension": ".py",
   "mimetype": "text/x-python",
   "name": "python",
   "nbconvert_exporter": "python",
   "pygments_lexer": "ipython3",
   "version": "3.6.10"
  }
 },
 "nbformat": 4,
 "nbformat_minor": 4
}
